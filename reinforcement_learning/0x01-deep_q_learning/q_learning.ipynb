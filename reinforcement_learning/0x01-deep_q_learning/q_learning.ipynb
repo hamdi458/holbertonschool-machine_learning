{
  "nbformat": 4,
  "nbformat_minor": 0,
  "metadata": {
    "colab": {
      "name": "q_learning.ipynb",
      "provenance": [],
      "authorship_tag": "ABX9TyNzZBWN+eg1Vn5ffR/Y2xjd",
      "include_colab_link": true
    },
    "kernelspec": {
      "display_name": "Python 3",
      "name": "python3"
    },
    "language_info": {
      "name": "python"
    }
  },
  "cells": [
    {
      "cell_type": "markdown",
      "metadata": {
        "id": "view-in-github",
        "colab_type": "text"
      },
      "source": [
        "<a href=\"https://colab.research.google.com/github/Bzhamdi/holbertonschool-machine_learning/blob/main/reinforcement_learning/0x01-deep_q_learning/q_learning.ipynb\" target=\"_parent\"><img src=\"https://colab.research.google.com/assets/colab-badge.svg\" alt=\"Open In Colab\"/></a>"
      ]
    },
    {
      "cell_type": "code",
      "metadata": {
        "id": "MYGLIf0rkxrz"
      },
      "source": [
        "!pip install tensorflow==2.3.1 gym keras-rl2 gym[atari]"
      ],
      "execution_count": null,
      "outputs": []
    },
    {
      "cell_type": "code",
      "metadata": {
        "id": "kC-RGbemlBmd"
      },
      "source": [
        "import gym \n",
        "import random"
      ],
      "execution_count": 2,
      "outputs": []
    },
    {
      "cell_type": "code",
      "metadata": {
        "id": "simQD5hBlmpW"
      },
      "source": [
        "! wget http://www.atarimania.com/roms/Roms.rar\n",
        "! mkdir /content/ROM/\n",
        "! unrar e /content/Roms.rar /content/ROM/\n",
        "! python -m atari_py.import_roms /content/ROM/"
      ],
      "execution_count": null,
      "outputs": []
    },
    {
      "cell_type": "code",
      "metadata": {
        "id": "MI-GqABYlTrq"
      },
      "source": [
        "# create Environment with OpenAI Gym\n",
        "import numpy as np\n",
        "\n",
        "\n",
        "env = gym.make('BreakoutDeterministic-v4')\n",
        "height, width, channels = env.observation_space.shape\n",
        "np.random.seed(123)\n",
        "env.seed(123)\n",
        "actions = env.action_space.n"
      ],
      "execution_count": 53,
      "outputs": []
    },
    {
      "cell_type": "code",
      "metadata": {
        "id": "lGMKkdcjIzf1"
      },
      "source": [
        ""
      ],
      "execution_count": null,
      "outputs": []
    },
    {
      "cell_type": "code",
      "metadata": {
        "colab": {
          "base_uri": "https://localhost:8080/"
        },
        "id": "oYScmcjUl2ls",
        "outputId": "5a1a8353-6571-4311-893c-814ab8b74e48"
      },
      "source": [
        "env.unwrapped.get_action_meanings()"
      ],
      "execution_count": 55,
      "outputs": [
        {
          "output_type": "execute_result",
          "data": {
            "text/plain": [
              "['NOOP', 'FIRE', 'RIGHT', 'LEFT']"
            ]
          },
          "metadata": {
            "tags": []
          },
          "execution_count": 55
        }
      ]
    },
    {
      "cell_type": "code",
      "metadata": {
        "id": "dpAbKvqmmqqS"
      },
      "source": [
        "import numpy as np\n",
        "from tensorflow.keras.models import Sequential\n",
        "from tensorflow.keras.layers import Dense, Flatten, Convolution2D,Activation\n",
        "from tensorflow.keras.optimizers import Adam"
      ],
      "execution_count": 56,
      "outputs": []
    },
    {
      "cell_type": "code",
      "metadata": {
        "id": "z2EbqKBomxI6"
      },
      "source": [
        "#Create a Deep Learning Model with Keras\n",
        "def build_model(height, width, channels, actions):\n",
        "    model = Sequential()\n",
        "    model.add(Convolution2D(32, (8,8), strides=(4,4), activation='relu', input_shape=(3,height, width, channels)))\n",
        "    model.add(Convolution2D(64, (4, 4), strides=(2, 2)))\n",
        "    model.add(Activation('relu'))\n",
        "    model.add(Convolution2D(64, (3, 3), strides=(1, 1)))\n",
        "    model.add(Activation('relu'))\n",
        "    model.add(Flatten())\n",
        "    model.add(Dense(512))\n",
        "    model.add(Activation('relu'))\n",
        "    model.add(Dense(actions))\n",
        "    model.add(Activation('linear'))\n",
        "    return model"
      ],
      "execution_count": 57,
      "outputs": []
    },
    {
      "cell_type": "code",
      "metadata": {
        "colab": {
          "base_uri": "https://localhost:8080/"
        },
        "id": "S0T4yHopm4eJ",
        "outputId": "824081a6-6025-4e70-e3c3-5d3cc1dc697f"
      },
      "source": [
        "\n",
        "model = build_model(height, width, channels, actions)\n",
        "model.summary()"
      ],
      "execution_count": 58,
      "outputs": [
        {
          "output_type": "stream",
          "text": [
            "Model: \"sequential_3\"\n",
            "_________________________________________________________________\n",
            "Layer (type)                 Output Shape              Param #   \n",
            "=================================================================\n",
            "conv2d_9 (Conv2D)            (None, 3, 51, 39, 32)     6176      \n",
            "_________________________________________________________________\n",
            "conv2d_10 (Conv2D)           (None, 3, 24, 18, 64)     32832     \n",
            "_________________________________________________________________\n",
            "activation_12 (Activation)   (None, 3, 24, 18, 64)     0         \n",
            "_________________________________________________________________\n",
            "conv2d_11 (Conv2D)           (None, 3, 22, 16, 64)     36928     \n",
            "_________________________________________________________________\n",
            "activation_13 (Activation)   (None, 3, 22, 16, 64)     0         \n",
            "_________________________________________________________________\n",
            "flatten_3 (Flatten)          (None, 67584)             0         \n",
            "_________________________________________________________________\n",
            "dense_10 (Dense)             (None, 512)               34603520  \n",
            "_________________________________________________________________\n",
            "activation_14 (Activation)   (None, 512)               0         \n",
            "_________________________________________________________________\n",
            "dense_11 (Dense)             (None, 4)                 2052      \n",
            "_________________________________________________________________\n",
            "activation_15 (Activation)   (None, 4)                 0         \n",
            "=================================================================\n",
            "Total params: 34,681,508\n",
            "Trainable params: 34,681,508\n",
            "Non-trainable params: 0\n",
            "_________________________________________________________________\n"
          ],
          "name": "stdout"
        }
      ]
    },
    {
      "cell_type": "code",
      "metadata": {
        "id": "Ah2w-xthnH2C"
      },
      "source": [
        "from rl.agents import DQNAgent\n",
        "from rl.memory import SequentialMemory\n",
        "from rl.policy import LinearAnnealedPolicy, EpsGreedyQPolicy"
      ],
      "execution_count": 59,
      "outputs": []
    },
    {
      "cell_type": "code",
      "metadata": {
        "id": "ZacZsHO1nJav"
      },
      "source": [
        "# Build Agent with Keras-RL\n",
        "def build_agent(model, actions):\n",
        "    policy = LinearAnnealedPolicy(EpsGreedyQPolicy(), attr='eps', value_max=1., value_min=.1, value_test=.2, nb_steps=10000)\n",
        "    memory = SequentialMemory(limit=1000, window_length=3)\n",
        "    dqn = DQNAgent(model=model, memory=memory, policy=policy,\n",
        "                  enable_dueling_network=True, dueling_type='avg', \n",
        "                   nb_actions=actions, nb_steps_warmup=1000\n",
        "                  )\n",
        "    return dqn"
      ],
      "execution_count": 61,
      "outputs": []
    },
    {
      "cell_type": "code",
      "metadata": {
        "id": "7_14-21GnPGi"
      },
      "source": [
        "dqn = build_agent(model, actions)\n",
        "dqn.compile(Adam(lr=1e-4))"
      ],
      "execution_count": 62,
      "outputs": []
    },
    {
      "cell_type": "code",
      "metadata": {
        "colab": {
          "base_uri": "https://localhost:8080/"
        },
        "id": "ZZH-aF1rosTS",
        "outputId": "45486847-7c48-4e97-b75b-e350f41e58a6"
      },
      "source": [
        "dqn.fit(env, nb_steps=10000, visualize=False, verbose=2)"
      ],
      "execution_count": 64,
      "outputs": [
        {
          "output_type": "stream",
          "text": [
            "Training for 20 steps ...\n",
            "done, took 0.884 seconds\n"
          ],
          "name": "stdout"
        },
        {
          "output_type": "execute_result",
          "data": {
            "text/plain": [
              "<tensorflow.python.keras.callbacks.History at 0x7f93c4b90050>"
            ]
          },
          "metadata": {
            "tags": []
          },
          "execution_count": 64
        }
      ]
    },
    {
      "cell_type": "code",
      "metadata": {
        "id": "aa2SmS-3LoFJ"
      },
      "source": [
        ""
      ],
      "execution_count": 24,
      "outputs": []
    },
    {
      "cell_type": "code",
      "metadata": {
        "id": "LkDfUk2DAlRZ"
      },
      "source": [
        "\n",
        "scores = dqn.test(env, nb_episodes=10, visualize=False)\n",
        "print(np.mean(scores.history['episode_reward']))"
      ],
      "execution_count": null,
      "outputs": []
    },
    {
      "cell_type": "code",
      "metadata": {
        "id": "sujUXS9XBydP"
      },
      "source": [
        "dqn.save_weights('SavedWeights/10k-Fast/dqn_weights.h5f')"
      ],
      "execution_count": 32,
      "outputs": []
    },
    {
      "cell_type": "code",
      "metadata": {
        "id": "FRRf-0OxB0kz",
        "colab": {
          "base_uri": "https://localhost:8080/",
          "height": 355
        },
        "outputId": "a6b1e616-e1a0-4f59-8809-1596d2afffca"
      },
      "source": [
        "!pip install colabgymrender\n",
        "from colabgymrender.recorder import Recorder\n",
        "\n",
        "\n",
        "directory = './video'\n",
        "env = Recorder(env, directory)\n",
        "\n",
        "observation = env.reset()\n",
        "terminal = False\n",
        "while not terminal:\n",
        "  action = env.action_space.sample()\n",
        "  observation, reward, terminal, info = env.step(action)\n",
        "\n",
        "env.play()\n",
        "\n",
        "dqn.load_weights('SavedWeights/10k-Fast/dqn_weights.h5f')"
      ],
      "execution_count": 66,
      "outputs": [
        {
          "output_type": "stream",
          "text": [
            "Requirement already satisfied: colabgymrender in /usr/local/lib/python3.7/dist-packages (1.0.9)\n",
            "Requirement already satisfied: moviepy in /usr/local/lib/python3.7/dist-packages (from colabgymrender) (0.2.3.5)\n",
            "Requirement already satisfied: imageio<3.0,>=2.1.2 in /usr/local/lib/python3.7/dist-packages (from moviepy->colabgymrender) (2.4.1)\n",
            "Requirement already satisfied: decorator<5.0,>=4.0.2 in /usr/local/lib/python3.7/dist-packages (from moviepy->colabgymrender) (4.4.2)\n",
            "Requirement already satisfied: tqdm<5.0,>=4.11.2 in /usr/local/lib/python3.7/dist-packages (from moviepy->colabgymrender) (4.41.1)\n",
            "Requirement already satisfied: numpy in /usr/local/lib/python3.7/dist-packages (from moviepy->colabgymrender) (1.18.5)\n",
            "Requirement already satisfied: pillow in /usr/local/lib/python3.7/dist-packages (from imageio<3.0,>=2.1.2->moviepy->colabgymrender) (7.1.2)\n"
          ],
          "name": "stdout"
        },
        {
          "output_type": "display_data",
          "data": {
            "text/html": [
              "<video controls>\n",
              " <source src=\"data:video/mp4;base64,AAAAIGZ0eXBpc29tAAACAGlzb21pc28yYXZjMW1wNDEAAAAIZnJlZQAAHYNtZGF0AAACrQYF//+p\n",
              "3EXpvebZSLeWLNgg2SPu73gyNjQgLSBjb3JlIDE0OCByMzMzIDkwYTYxZWMgLSBILjI2NC9NUEVH\n",
              "LTQgQVZDIGNvZGVjIC0gQ29weWxlZnQgMjAwMy0yMDE3IC0gaHR0cDovL3d3dy52aWRlb2xhbi5v\n",
              "cmcveDI2NC5odG1sIC0gb3B0aW9uczogY2FiYWM9MSByZWY9MyBkZWJsb2NrPTE6MDowIGFuYWx5\n",
              "c2U9MHgzOjB4MTEzIG1lPWhleCBzdWJtZT03IHBzeT0xIHBzeV9yZD0xLjAwOjAuMDAgbWl4ZWRf\n",
              "cmVmPTEgbWVfcmFuZ2U9MTYgY2hyb21hX21lPTEgdHJlbGxpcz0xIDh4OGRjdD0xIGNxbT0wIGRl\n",
              "YWR6b25lPTIxLDExIGZhc3RfcHNraXA9MSBjaHJvbWFfcXBfb2Zmc2V0PS0yIHRocmVhZHM9MyBs\n",
              "b29rYWhlYWRfdGhyZWFkcz0xIHNsaWNlZF90aHJlYWRzPTAgbnI9MCBkZWNpbWF0ZT0xIGludGVy\n",
              "bGFjZWQ9MCBibHVyYXlfY29tcGF0PTAgY29uc3RyYWluZWRfaW50cmE9MCBiZnJhbWVzPTMgYl9w\n",
              "eXJhbWlkPTIgYl9hZGFwdD0xIGJfYmlhcz0wIGRpcmVjdD0xIHdlaWdodGI9MSBvcGVuX2dvcD0w\n",
              "IHdlaWdodHA9MiBrZXlpbnQ9MjUwIGtleWludF9taW49MjUgc2NlbmVjdXQ9NDAgaW50cmFfcmVm\n",
              "cmVzaD0wIHJjX2xvb2thaGVhZD00MCByYz1jcmYgbWJ0cmVlPTEgY3JmPTIzLjAgcWNvbXA9MC42\n",
              "MCBxcG1pbj0wIHFwbWF4PTY5IHFwc3RlcD00IGlwX3JhdGlvPTEuNDAgYXE9MToxLjAwAIAAAAIY\n",
              "ZYiEADf//vbw/gU2VgRQZrtC0sj1QBgIM/mpmBUonDYew5vJtdZh+k5gn87TVHYAaGMrLtJIVsVz\n",
              "mu3Cwa16GIJ/uZp6JU7GjWksc7wNKGL11BCwl9ejUT4wKBo74MNE2GSaaP0yQZznMbqDSTn1P5nV\n",
              "SKOP2D0v/8qImgxQDh5yFSckVbxJGHERUB3/2OJBm37lFcwe61QMzexolUR4/8JhtYNVgnudeZkx\n",
              "SjZ/YXIE6RASgt4yhBMULVcdtMaRzTYAoEW19372zcCjNnb3kz4bsfw2NppRv6U+Zur2WClMvfAD\n",
              "Q635LuEBLRDtSqOnIgAP4ax7qlUDKmPa/6OBhfoPjwXKoP0VeN29qUCU0NTqWL6AAAzr3R/bCe1i\n",
              "LffBVfU3S4GNs02HslSTY7FcwniZrJjELvQha7yejzUw3znKJ5hnV5vhWUKWSq4FtTIXGOUc3M7D\n",
              "8pGuP6vrYHYeY59wymanvjWNVgGXt7s8nRU62nNTqesb3hV9FlL3PVAbKv9A8rKp0iceAMBSm9kO\n",
              "I0Yw/TMPNLyjGBaFcLrtkwGtygoPyx7Zzi5bKSVgNwzugdHY6jNRlihrOa/SUbrhahtgUdhLkqFc\n",
              "zAIEz65yTXewHZdnf9QIQfQTcv6SqUBdzrxfqcsqX2PMJwYMreoYxz8g4O2dYReWS9MojgHNzGiy\n",
              "iXtkrdPiSf6yWsihPwFw0YrZ7kOLt8EAAABMQZokbEN//qeEBum+IBKJ+4jzwo76L+A1RkJbvT6e\n",
              "/Sf9Gl4tgoLQHoK5Rkbwu7YDCBhDZ5eerAKpq/yH6MGZgrji71+hDHjmaXbhQAAAAB5BnkJ4hX8B\n",
              "sTrNvwCGLV9bLLv4Et+uRQA2+nEZf4EAAAAUAZ5hdEJ/AaPye8Z+zqD0SQaNp0YAAAARAZ5jakJ/\n",
              "AGmEwEDWmtvrJiEAAABLQZpmSahBaJlMFPDf/qeEAR3pvcngAsmY1UMJD/6c6LJHKWtlQZkQ7xxx\n",
              "kbPgRXo+w+Zhb6cHNWnGoEAg3EnsPAhTtxLnriIlDl85AAAAFwGehWpCfwI6LflzFz/Vc3sd3OMt\n",
              "NXdhAAAASUGaiknhClJlMCGf/p4QBFEgeVsf4IvJcAJZM4LCJWowh+f2GugS3yBc9FWUHASigFbk\n",
              "kJ70JAabjL9NO7btKkcBhUSDZTcOwxsAAABsQZ6oRTRMK/8Bu5LHPWyTB1130XEltRy9j+X7awLK\n",
              "VR1t4bRgFckxOJ8Af/WtuKaFd37emuM0Eb04VtziTgH90epdJmx7UiIMQpxalNCpZzfyf/DU8kDb\n",
              "wct1TLl5EMpkNhggCvCYjdaYufLAAAAALQGex3RCfwEtaT1q6x4OmWLNFa1JurUeAE0hWwjDKXlj\n",
              "NMnP/vXRQtTPtqv2RwAAACsBnslqQn8BJdx+aMIeQ6a7mUOOytiVfwU02ABOoVsJMRdNHS0hNfIl\n",
              "JvVhAAAAc0GazUmoQWiZTAhn//6eEBtv7XlA2AlIW8PDSjalLMw1WedaoRMBUUTNeBsgop8phkT3\n",
              "Myte80m/kcryaeSidzxvULOCKalTgawspdILlB1Ug3GMmecGAG+9eypqSv3dDbNyFvmpvPrjoJam\n",
              "2X9CDbZkU/gAAAAcQZ7rRREsK/8A4le3SqD8YESCcI1ewTlfwUXRwAAAABoBnwxqQn8CzhPTngyy\n",
              "em3UelM8wDjwP0k7rQAAAGVBmw5JqEFsmUwIZ//+nhAblw9AAU/61c7ku4pNzqUovV158EW+ibXa\n",
              "sKwTRgF5ms5vP4uxHijf1qMVkJk/PONA/fThKlJFu6FQtCsgD2z82hTUasCX5fhvUuPX8mXtum5M\n",
              "0fTEnQAAADFBmy9J4QpSZTAhn/6eEBuWjoQVd0Vd8J38xGwF+Kjo1RfrHhUV2bEPQ0DXNQlVo2P/\n",
              "AAAAN0GbUknhDomUwIZ//p4QG5aOhBWRJP5/l239aHW8DlEtDNGE7CSa5u2w851CxsP/my/Y2ccG\n",
              "D5cAAAAdQZ9wRRE8K/8A4kb5gk1hzp2Hl1DDQRC82xB4DH4AAAAYAZ+RakJ/ASXcXA6yP1h34Z0S\n",
              "7iVjdGgHAAAAH0Gbk0moQWiZTAhv//6nhAeviEUCnIFohaiNJTWGCIAAAAAcQZu0SeEKUmUwIb/+\n",
              "p4QHr4hFAp7xZag/ReArUAAAACBBm9hJ4Q6JlMCG//6nhAeviEUCnIFlt027E9xEmPTxXQAAACpB\n",
              "n/ZFETwr/wDiRvmCTQB7wwAByzG4tRwSkRR+gDZGhFO8stNJC1EKDlAAAAAiAZ4VdEJ/ASVqt4fh\n",
              "7yjwAg+nmW4hQn2TuTgaCObUBtto6wAAABwBnhdqQn8BJdxcDqDHHhDoI68gAjcHsBie/ZGNAAAA\n",
              "GEGaHEmoQWiZTAhv//6nhAeviEUCnvFgnAAAABJBnjpFESwr/wDiV7J1uPAV16EAAAAPAZ5ZdEJ/\n",
              "ASVqt4fgEIDwAAAADwGeW2pCfwEl3FwOn36EqQAAAFxBmkBJqEFsmUwIZ//+gBBEAJ+rf/4ckgJE\n",
              "4LC6zhnrC1S1uPZiB2vToeR0lun65xBxl3/OWHEuE875qfHaRJcrx2fBtf+61PtjK3i3/6P+nwID\n",
              "IozUVfHUaCtGuQAAABVBnn5FFSwr/zlV76+VlRJXWhRELjkAAAARAZ6ddEJ/QBnh9BHe32B7ByAA\n",
              "AAARAZ6fakJ/AS3bWpL+eFIWNoEAAAA7QZqCSahBbJlMFEwz//6eEBuWjoQVkSWkOqQa+olSh9uO\n",
              "CoJL8SLUDeCwiVqMIfn9hroEk16ulfaSDAEAAAAVAZ6hakJ/AS2IxhOnzw4xlVCUQ9DBAAAARUGa\n",
              "pEnhClJlMFLDP/6eEBuWjoQVd0Wm2m2kwL3YVPzHaRJcryAZ4OajJ+cYy3hZeq3r2iXcmVCWuQxO\n",
              "NWFmpyGWgmtmeAAAABMBnsNqQn8A7bOwjNTjswSuvOkjAAAAHkGaxUnhDomUwIZ//p4QG5aOhBWR\n",
              "JVcUTNjHrfd7lwAAABtBmuZJ4Q8mUwIZ//6eEBuWjoQVd0Uil09Vs4cAAAArQZsISeEPJlMFETwz\n",
              "//6eEBuWjoQVkSUnmGJmEwy7Y5GrudsheR1DFx7WQQAAABQBnydqQn8A6yEvbLSMr4xdpGkYmAAA\n",
              "AB1BmylJ4Q8mUwIZ//6eEBuWjoQVd0Un0DJtIynXMAAAACZBm0xJ4Q8mUwIZ//6eEBuWjoQVkST+\n",
              "f5dt/V1mewMJdXOmMOizkQAAABpBn2pFETwr/wC4YbDiSx4lh1zKUCwvYQo0IAAAABcBn4tqQn8A\n",
              "7bycnowh4x60yKBSKEjIHAAAAF5Bm41JqEFomUwIZ//+nhAblo6EFXdE/qg11p6r/+ufgb7Vr6tV\n",
              "KxTwCdEdgyUKycIYh74bZwo/FUWvbXhTTOzQUcM0lumRWy0VjqAM5YV/RH5aq4TChIZVSNGcBauB\n",
              "AAAAHEGbrknhClJlMCG//qeEB6+IRQKe8WWoP0ZLStUAAAA6QZvRSeEOiZTAhv/+p4QHr4hFApyB\n",
              "azfoSOgWijxHuQxPjOLJB5u7TPNZypUkaof/Rl0+kBbj0c85ywAAADNBn+9FETwr/wC6Zs7t50QA\n",
              "L1rYT+QCwgP8CvWfkuRpnfNBEdvNvOyHS4SLBAnL72SHmMAAAAAzAZ4QakJ/AO28eU87jOiADS3K\n",
              "eqRLUOfRfSwKajRC0qE8OpDWGGZ814N4FwvMsT/Ux8yAAAAAS0GaFUmoQWiZTAhv//6nhAeviEUC\n",
              "nvFkKejLF8aIOTp2k2jbmulKAABPf3rXgoNSakTWGnQ2HdhYZY/V40Ms1OApe0zPwIxfCbg+uQAA\n",
              "ABpBnjNFESwr/wC6cnBtdSRK45IEiCRbs7hkwAAAABQBnlJ0Qn8A7W0XXbDTzHwoWQCsQAAAABEB\n",
              "nlRqQn8A7byWg67YMiYB0QAAADNBmllJqEFsmUwIZ//+gflvitAFq4f/+Hd9AlVaPT6tqAhJ73i5\n",
              "BQXQQwC5RBxJikIsMKkAAAAVQZ53RRUsK/85quB57esKcWc89MSBAAAADwGelnRCfwDtbRddorBI\n",
              "0QAAABEBnphqQn8/RdNLdmzMHbc7iAAAADtBmppJqEFsmUwIZ//+nhAblo6EFZElptp8EOd8Tzof\n",
              "q3pAaD3ry1qQMuQR/3hJn4IM0ZMV2hExoep+YQAAAEBBmr1J4QpSZTAhn/6eEBuWjoQVd0WkOEhP\n",
              "VXTiCNQsXucFhErUguT4oCUs4ZYORVvU3r0s/a3iiJ8xLXQlOKCAAAAAGUGe20U0TCv/AOeA7QrX\n",
              "I2YMuw/L/mDM0DEAAAAYAZ78akJ/AO27/lek08mF639CgsyQ+vVHAAAAe0Ga/kmoQWiZTAhn//6e\n",
              "EBuWjoQVkSVYbH+CLrmYqXCwiVqMAvM1nN5/Ein/K926yCWTOaMbwD6SZpDqSLd0DDP6qNkftcZk\n",
              "Bmx91BdaTQZMMsyVctBBJspF0v7poMofqo2G8Z4wFqUQGn+VbmXfjrgvB83VMZoHXFJ1wAAAACVB\n",
              "mx9J4QpSZTAhv/6nhAeviEUCnIFv8YniTHjeHzZRkEDe+2LgAAAAMUGbIknhDomUwIZ//p4QG5aO\n",
              "hBWRJSeYpxqRMpfSK9+WZ00ZkT7SvsFfluJDElMa6uEAAAAbQZ9ARRE8K/8AkuvA2px++D/2CA9B\n",
              "NJEMkqJgAAAAGAGfYWpCfwC/M7CHY47avnPk39TRxEItDwAAAChBm2NJqEFomUwIb//+p4QHr4hF\n",
              "ApyBa3rojSU1hnCKa0tChkaq2LEgAAAAJkGbhknhClJlMCG//qeEB6+IRQKe8WiCClF9EXea+vRG\n",
              "urvpP7blAAAAGEGfpEU0TCv/AHQZKapCY+LTqluoSfc9mQAAABUBn8VqQn8AluaoIeUZurBiB9U5\n",
              "nE0AAAB3QZvHSahBaJlMCG///qeEB6+IRQKcgWiFqI0lNYf+vfnCLDZSPmcQ6Jg0qzequMRva6Kc\n",
              "C1w+0MpzfLdSLB1tj9gy5oufEO4d6jypoSMI7/ckbRqAd/xfPz+h1wtbXSUuL/nluHqRAz1kQPBr\n",
              "Su3qlkaAOAXacBcAAAAvQZvrSeEKUmUwIb/+p4QHr4hFAp7xcA/GgHELeg4pGM+tx4WZYH1691aT\n",
              "3SC/NqAAAAAtQZ4JRTRMK/8AujVCak3CyJ47oANiya1FyyO//lcnfXFLXhaJIuEkqpauzwOAAAAA\n",
              "GwGeKHRCfwDtbSFWv7VinKocZn1k4JRuXeOxWwAAACoBnipqQn8Alu5vD3XM+AAf9oSFSJaEkCUN\n",
              "aqYzoV4kn7vcz3g0FupmmUAAAAAmQZouSahBaJlMCG///qeEB6+IRQKcgWQoWHXFFcA29MPcI2mx\n",
              "KxoAAAAiQZ5MRREsK/8AdCvjJJXoAWkHIxy4WC6PZ7GvnLACy9SGoQAAABMBnm1qQn8Alu5vDzIh\n",
              "vY6F+XhBAAAAaUGackmoQWyZTAhv//6StL3AHFPH/1YPGtlbWjS/IHkZK86k0p0zgIr0tFus63NC\n",
              "Yz3v3vE1j3MET/UAUJ4JQBZpHe/GXpsG+zpoHBY6rU9l9qEHgBi3Y2frWSNB+2Zu5+aiVuVxz4cG\n",
              "lwAAACNBnpBFFSwr/zmq4H0MZP6ot5rgRc7ICJ8qLUCWH5zFtg8pgwAAABUBnq90Qn8AlrWplOCc\n",
              "2DgpCyIzbXAAAAAUAZ6xakJ/P9BprnR8NSGAhwK474EAAAArQZq2SahBbJlMCG///qeEARX5GzRX\n",
              "t8cAIfZlyBx4b+wACzTV2sPUTjKL4AAAACpBntRFFSwr/wDiAehREAHFSrp4bYL0NDGnhXS+IQag\n",
              "1vFlI8o+ywIYk8AAAAAfAZ7zdEJ/ASWvemzMgBFNR1ENsSZ5ZlG0Hh86/xU0wQAAACEBnvVqQn8B\n",
              "JYrJ9cAHAgm/ePFXNV0xMH+KoX1bzQB1t5IAAAAsQZr4SahBbJlMFEw3//6nhAeviEUCnIFuZlRB\n",
              "4zrdeAndjUcgceFlU050c/EAAAAVAZ8XakJ/AN0Kr2BB2f9kp4aR4IjrAAAAJUGbHEnhClJlMCGf\n",
              "/p4QAnqq+VRAbzSMM0mlT/tJx4YNwdtC0rAAAAAkQZ86RTRMK/8AgsixTEAHFSrp4bYKTBWBOlYT\n",
              "Oe3628G8u+KJAAAAHQGfWXRCfwCspbXABwIJv3jxWsjsey2sM98WO7DCAAAAEgGfW2pCfwCoM/VS\n",
              "bAk8HG9FYQAAAClBm11JqEFomUwIZ//+nhAB2lbscALWA2+vHAzk62/b8lQl65wgb93WLQAAAl1l\n",
              "iIIAD//+92ifApteYap8I7RuupAUAhNLV7LX5Z86GM6rchPoe/pRVBcmotmqYntJWaRjY82hpD+0\n",
              "fltjmYp5AVV3i2OgQd1Dwhr3SzUcfeneS4jgjO8Y/jVq+FXFP8sE8+1d9DQzHFeWjJJY5Rji+tyQ\n",
              "/5QJMlVUN8Awig+vlCh0eybvkVtiRiAkrEJzyuR5IZVz7GAVxAFBYj/QtpNjwJPJzZZVg7Tt4Fxd\n",
              "H/bf8D4wLWMSONxFeQ4W+cst2g40cf7YJNyec74iJFUuC+IpJ+aA6BzMuoHhNuQWQnIvwcTppV8y\n",
              "Id/rs8XIQoAACiWW36faWx/4DyoQNj9AGfDAfcju1Dx2LXhdcoqzy/llQ1/HNx+4wnmmHIy6EM3E\n",
              "YruSNStm8JqEucAKneazOo+nUlaIU6V+YIzFUVrg7A8yI+GAUpjN07DjFifqLTAhbmzeY6TwZJ7V\n",
              "RrFlA88QqUbftoq8Q3MJ1m7SLNiKy2bQDuDIppu1dlh/54UQnU+oPwhxi/vWac7+8LgImui6hJRW\n",
              "78FlqlHSBNIW/qBpirYv7tzM+ht/UerUCxo62zqfrbUoU0BO7UnZuxyL657/wfFc8weL2jDeDG2W\n",
              "qJpO61cHcRtU1L54vnvPNYUOCYlRzI64ZXlXM2KQ+tavmdy+f2nQXWg03Ez/lf2ULckFEzjw7ZB7\n",
              "vtGNfFgiw1VmPel3Y0ivRmhzCq3+0NWR4KeWe29Amv1yTGslV5oVAc6DJn9L9c+RoUqzvnXpq2Yg\n",
              "sfxYMIO1s3IjqQLfgmyUnfzWlg1QI0NC2/uMFYAhdJpZLgAAAC1BmiFsQz/+nhAB0fY8fP1qFwf0\n",
              "2TwAnWlvOsYYlQSvHq/gr/X2/4ATndVh+IAAAACRQZpEPCGTKYQz//6eEANL7Hc6bwH9KvUWNL34\n",
              "Fv1AETH3CzlqXnZCADlVIlOp6OmueVwefblMmEXfMRPWIAtOCIXFmBz8Qv1kKxvGZ0hGQnM8P4o5\n",
              "cP6hxaQmvmWl1dNqQ+naMJKR16ELKvDQK3RSBfw83FMxIiWdxNABy5mBfYNyZrGjMzH2Q9LMsQs6\n",
              "GJVtgQAAACFBnmJqU8K/ALE0T5FzL9KMiVCJJqq+J0Q/GdLi7OIU/TgAAAAXAZ6DakJ/AGmaO4gb\n",
              "wNdJYvoLFF53Wl0AAAA2QZqGSahBaJlMFPC//oywAYpaEkYlLoXGuDri09N+NewIfFVdefJY/ZrH\n",
              "SUNdVLrWKKUWu3nAAAAAFQGepWpCfwBpmYyBJbSS24wMwuQ50QAAAB1BmqdJ4QpSZTAhn/6eEAGR\n",
              "XzemiGh9BOoBW+DoKwAAACBBmshJ4Q6JlMCGf/6eEAGbXuqXvtyyxWw4tIRBlQ8bgQAAACxBmulJ\n",
              "4Q8mUwIZ//6eEAGlXzf69AFybOaq12L65yJ2WgSS9XNalByGnjpKQQAAAEFBmw1J4Q8mUwIV//4g\n",
              "LemQaDoBSWvT/uMPGtlJayJ/H/QM5w0vFSgGM8xfRnpJBSb3qLCq4kUiNQOqAMTaCftk3QAAABdB\n",
              "nytFETwr/zmq4Hui/UpaD5DcWZK8gAAAABIBn0p0Qn8AcV6Fz4+R5wn3m7sAAAAbAZ9MakJ/P0XT\n",
              "VgAH8fUTAim8vU+lWuCkYRKsAAAANUGbTkmoQWiZTAhP//3xAmoREE5ykJPRNqkt6d6FtwOQAMT5\n",
              "wwT0mlIEPL9mKqWS1GKxNXRUAAAAIEGbb0nhClJlMCFf/jhAC9xaEvuQF28uvilkRO91Om2BAAAA\n",
              "M0GbkknhDomUwIZ//p4QAw/PIVHxso72qg8OwE+xMOKrEQl8SeP39nWGEN4AkaYH3ptc4QAAADtB\n",
              "n7BFETwr/wDSyZRpeuZOF8RvXqxQAXQWLQepWdzQ74gwiaUvPqLA2XAA/W3XwGNZL7K2IUPwcP1E\n",
              "oQAAABcBn9FqQn8BDdxzWV6TowyPqHRzstRPYAAAAFxBm9NJqEFomUwIZ//+nhACah6erMgAK2ou\n",
              "YynhuPQMoHany3M1bzZS6XpcH1hyKVPiycBEQPo4zs9vkyHSZF6TT60tj13uBscy7H7Ag9mCNIEG\n",
              "zS7Jm87aUCVR4AAAAEBBm/dJ4QpSZTAhf/6MsAJwpleGfvSHn87QAblKTIf0wqefmKWWpsH/JxRW\n",
              "hYue5VQtV4BNrJntTpC9BPgodFiBAAAAJUGeFUU0TCv/ANLJk8T7m/sRlBTKTEuSDJ6/cxnEztCt\n",
              "hXSOBoAAAAAcAZ40dEJ/AQ1q0cCxuUIf+guXkJHyi05tvN4rYAAAABsBnjZqQn8BDdxzdmGfugrd\n",
              "fZzmqHbvckJJRQsAAAAmQZo4SahBaJlMCGf//p4QAe/zfTOBths5hjgpyg58u8CeyyK8DqAAAAAk\n",
              "QZpZSeEKUmUwIZ/+nhAB7/N9NCVuoipDTYb66KS2xFg1lOLJAAAAM0GaeknhDomUwIZ//p4QAwq9\n",
              "k26KYTwlZTMARciZApZ7P4rG2AHmOyapx62DTjnL+UkHQQAAABZBmptJ4Q8mUwIZ//6eEAGHXX1P\n",
              "J6aAAAAAJEGav0nhDyZTAhn//p4QAa96zDVmwNTnLkHV1bEnpCbv1UroIwAAAC1Bnt1FETwr/wBa\n",
              "6Ts+Tj1rJatwZVjdHsYBuGKxwoPgIuk+cyFwnDN59Y1egYgAAAAUAZ78dEJ/AHQl+FuLg6PW/oUO\n",
              "EJUAAAAXAZ7+akJ/AHQafaJIcF0ErM39Mryz810AAAAdQZrjSahBaJlMCE///fEAD4IWhwcw78IA\n",
              "1mKnu/AAAAAbQZ8BRREsK/8AWH503+ikkmU7bGKYz3bncdr2AAAADwGfIHRCfwBxNfQQv6al7QAA\n",
              "ABIBnyJqQn8AcW5Z2+bRmA4dP4AAAAAcQZslSahBbJlMFEwn//3xAA/Vu2fNAKLLoq6RIQAAAA8B\n",
              "n0RqQn8AdAGkJUMVnuEAAAiPbW9vdgAAAGxtdmhkAAAAAAAAAAAAAAAAAAAD6AAAETAAAQAAAQAA\n",
              "AAAAAAAAAAAAAAEAAAAAAAAAAAAAAAAAAAABAAAAAAAAAAAAAAAAAABAAAAAAAAAAAAAAAAAAAAA\n",
              "AAAAAAAAAAAAAAAAAAAAAgAAB7l0cmFrAAAAXHRraGQAAAADAAAAAAAAAAAAAAABAAAAAAAAETAA\n",
              "AAAAAAAAAAAAAAAAAAAAAAEAAAAAAAAAAAAAAAAAAAABAAAAAAAAAAAAAAAAAABAAAAAAKAAAADS\n",
              "AAAAAAAkZWR0cwAAABxlbHN0AAAAAAAAAAEAABEwAAAEAAABAAAAAAcxbWRpYQAAACBtZGhkAAAA\n",
              "AAAAAAAAAAAAAAA8AAABCABVxAAAAAAALWhkbHIAAAAAAAAAAHZpZGUAAAAAAAAAAAAAAABWaWRl\n",
              "b0hhbmRsZXIAAAAG3G1pbmYAAAAUdm1oZAAAAAEAAAAAAAAAAAAAACRkaW5mAAAAHGRyZWYAAAAA\n",
              "AAAAAQAAAAx1cmwgAAAAAQAABpxzdGJsAAAAmHN0c2QAAAAAAAAAAQAAAIhhdmMxAAAAAAAAAAEA\n",
              "AAAAAAAAAAAAAAAAAAAAAKAA0gBIAAAASAAAAAAAAAABAAAAAAAAAAAAAAAAAAAAAAAAAAAAAAAA\n",
              "AAAAAAAAAAAAGP//AAAAMmF2Y0MBZAAM/+EAGWdkAAys2UKHfiIQAAADABAAAAMDwPFCmWABAAZo\n",
              "6+PLIsAAAAAYc3R0cwAAAAAAAAABAAAAhAAAAgAAAAAYc3RzcwAAAAAAAAACAAAAAQAAAF8AAAN4\n",
              "Y3R0cwAAAAAAAABtAAAAAQAABAAAAAABAAAKAAAAAAEAAAQAAAAAAQAAAAAAAAABAAACAAAAAAEA\n",
              "AAYAAAAAAQAAAgAAAAABAAAKAAAAAAEAAAQAAAAAAQAAAAAAAAABAAACAAAAAAEAAAgAAAAAAgAA\n",
              "AgAAAAACAAAEAAAAAAEAAAgAAAAAAgAAAgAAAAACAAAEAAAAAAEAAAoAAAAAAQAABAAAAAABAAAA\n",
              "AAAAAAEAAAIAAAAAAQAACgAAAAABAAAEAAAAAAEAAAAAAAAAAQAAAgAAAAABAAAKAAAAAAEAAAQA\n",
              "AAAAAQAAAAAAAAABAAACAAAAAAEAAAYAAAAAAQAAAgAAAAABAAAGAAAAAAEAAAIAAAAAAgAABAAA\n",
              "AAABAAAGAAAAAAEAAAIAAAAAAQAABAAAAAABAAAIAAAAAAIAAAIAAAAAAgAABAAAAAABAAAIAAAA\n",
              "AAIAAAIAAAAAAQAACgAAAAABAAAEAAAAAAEAAAAAAAAAAQAAAgAAAAABAAAKAAAAAAEAAAQAAAAA\n",
              "AQAAAAAAAAABAAACAAAAAAEAAAQAAAAAAQAACAAAAAACAAACAAAAAAIAAAQAAAAAAQAACAAAAAAC\n",
              "AAACAAAAAAEAAAQAAAAAAQAACAAAAAACAAACAAAAAAEAAAQAAAAAAQAACgAAAAABAAAEAAAAAAEA\n",
              "AAAAAAAAAQAAAgAAAAABAAAIAAAAAAIAAAIAAAAAAQAACgAAAAABAAAEAAAAAAEAAAAAAAAAAQAA\n",
              "AgAAAAABAAAKAAAAAAEAAAQAAAAAAQAAAAAAAAABAAACAAAAAAEAAAYAAAAAAQAAAgAAAAABAAAK\n",
              "AAAAAAEAAAQAAAAAAQAAAAAAAAABAAACAAAAAAMAAAQAAAAAAQAACAAAAAACAAACAAAAAAEAAAYA\n",
              "AAAAAQAAAgAAAAADAAAEAAAAAAEAAAoAAAAAAQAABAAAAAABAAAAAAAAAAEAAAIAAAAAAgAABAAA\n",
              "AAABAAAIAAAAAAIAAAIAAAAAAQAABAAAAAABAAAKAAAAAAEAAAQAAAAAAQAAAAAAAAABAAACAAAA\n",
              "AAQAAAQAAAAAAQAACgAAAAABAAAEAAAAAAEAAAAAAAAAAQAAAgAAAAABAAAKAAAAAAEAAAQAAAAA\n",
              "AQAAAAAAAAABAAACAAAAAAEAAAYAAAAAAQAAAgAAAAAcc3RzYwAAAAAAAAABAAAAAQAAAIQAAAAB\n",
              "AAACJHN0c3oAAAAAAAAAAAAAAIQAAATNAAAAUAAAACIAAAAYAAAAFQAAAE8AAAAbAAAATQAAAHAA\n",
              "AAAxAAAALwAAAHcAAAAgAAAAHgAAAGkAAAA1AAAAOwAAACEAAAAcAAAAIwAAACAAAAAkAAAALgAA\n",
              "ACYAAAAgAAAAHAAAABYAAAATAAAAEwAAAGAAAAAZAAAAFQAAABUAAAA/AAAAGQAAAEkAAAAXAAAA\n",
              "IgAAAB8AAAAvAAAAGAAAACEAAAAqAAAAHgAAABsAAABiAAAAIAAAAD4AAAA3AAAANwAAAE8AAAAe\n",
              "AAAAGAAAABUAAAA3AAAAGQAAABMAAAAVAAAAPwAAAEQAAAAdAAAAHAAAAH8AAAApAAAANQAAAB8A\n",
              "AAAcAAAALAAAACoAAAAcAAAAGQAAAHsAAAAzAAAAMQAAAB8AAAAuAAAAKgAAACYAAAAXAAAAbQAA\n",
              "ACcAAAAZAAAAGAAAAC8AAAAuAAAAIwAAACUAAAAwAAAAGQAAACkAAAAoAAAAIQAAABYAAAAtAAAC\n",
              "YQAAADEAAACVAAAAJQAAABsAAAA6AAAAGQAAACEAAAAkAAAAMAAAAEUAAAAbAAAAFgAAAB8AAAA5\n",
              "AAAAJAAAADcAAAA/AAAAGwAAAGAAAABEAAAAKQAAACAAAAAfAAAAKgAAACgAAAA3AAAAGgAAACgA\n",
              "AAAxAAAAGAAAABsAAAAhAAAAHwAAABMAAAAWAAAAIAAAABMAAAAUc3RjbwAAAAAAAAABAAAAMAAA\n",
              "AGJ1ZHRhAAAAWm1ldGEAAAAAAAAAIWhkbHIAAAAAAAAAAG1kaXJhcHBsAAAAAAAAAAAAAAAALWls\n",
              "c3QAAAAlqXRvbwAAAB1kYXRhAAAAAQAAAABMYXZmNTcuNzIuMTAx\" type=\"video/mp4\">\n",
              " Your browser does not support the video tag.\n",
              " </video>"
            ],
            "text/plain": [
              "<IPython.core.display.Video object>"
            ]
          },
          "metadata": {
            "tags": []
          }
        }
      ]
    }
  ]
}